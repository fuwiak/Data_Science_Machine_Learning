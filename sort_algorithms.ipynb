{
 "cells": [
  {
   "cell_type": "code",
   "execution_count": 1,
   "metadata": {},
   "outputs": [],
   "source": [
    "arr = [-1,2,-9,1,2,2,3,-1]"
   ]
  },
  {
   "cell_type": "code",
   "execution_count": 2,
   "metadata": {},
   "outputs": [],
   "source": [
    "#sorting algorithms\n",
    "def bubble_sort(seq):\n",
    "    changed = True\n",
    "    while changed:\n",
    "        changed = False\n",
    "        for i in range(len(seq) - 1):\n",
    "            if seq[i] > seq[i+1]:\n",
    "                seq[i], seq[i+1] = seq[i+1], seq[i]\n",
    "                changed = True\n",
    "    return seq"
   ]
  },
  {
   "cell_type": "code",
   "execution_count": 3,
   "metadata": {},
   "outputs": [
    {
     "data": {
      "text/plain": [
       "[-9, -1, -1, 1, 2, 2, 2, 3]"
      ]
     },
     "execution_count": 3,
     "metadata": {},
     "output_type": "execute_result"
    }
   ],
   "source": [
    "bubble_sort(arr)"
   ]
  },
  {
   "cell_type": "code",
   "execution_count": 4,
   "metadata": {},
   "outputs": [],
   "source": [
    "def insertion_sort(seq):\n",
    "    for i in range(1, len(seq)):\n",
    "        j = i-1 \n",
    "        key = seq[i]\n",
    "        while (seq[j] > key) and (j >= 0):\n",
    "            seq[j+1] = seq[j]\n",
    "            j -= 1\n",
    "        seq[j+1] = key\n",
    "    return seq"
   ]
  },
  {
   "cell_type": "code",
   "execution_count": 5,
   "metadata": {},
   "outputs": [
    {
     "data": {
      "text/plain": [
       "[-9, -1, -1, 1, 2, 2, 2, 3]"
      ]
     },
     "execution_count": 5,
     "metadata": {},
     "output_type": "execute_result"
    }
   ],
   "source": [
    "insertion_sort(arr)"
   ]
  },
  {
   "cell_type": "code",
   "execution_count": 6,
   "metadata": {},
   "outputs": [],
   "source": [
    "def merge_sort(seq):\n",
    "    if len(seq) <= 1:\n",
    "        return seq\n",
    " \n",
    "    middle = len(seq) // 2\n",
    "    left = seq[:middle]\n",
    "    right = seq[middle:]\n",
    " \n",
    "    left = merge_sort(left)\n",
    "    right = merge_sort(right)\n",
    "    return left+right"
   ]
  },
  {
   "cell_type": "code",
   "execution_count": 7,
   "metadata": {},
   "outputs": [
    {
     "data": {
      "text/plain": [
       "[-9, -1, -1, 1, 2, 2, 2, 3]"
      ]
     },
     "execution_count": 7,
     "metadata": {},
     "output_type": "execute_result"
    }
   ],
   "source": [
    "merge_sort(arr)"
   ]
  },
  {
   "cell_type": "code",
   "execution_count": 11,
   "metadata": {},
   "outputs": [],
   "source": [
    "def quickSort(seq):\n",
    "    less = []\n",
    "    pivotList = []\n",
    "    more = []\n",
    "    if len(seq) <= 1:\n",
    "        return seq\n",
    "    else:\n",
    "        pivot = seq[0]\n",
    "        for i in seq:\n",
    "            if i < pivot:\n",
    "                less.append(i)\n",
    "            elif i > pivot:\n",
    "                more.append(i)\n",
    "            else:\n",
    "                pivotList.append(i)\n",
    "        less = quickSort(less)\n",
    "        more = quickSort(more)\n",
    "        return less + pivotList + more"
   ]
  },
  {
   "cell_type": "code",
   "execution_count": 12,
   "metadata": {},
   "outputs": [
    {
     "data": {
      "text/plain": [
       "[-9, -1, -1, 1, 2, 2, 2, 3]"
      ]
     },
     "execution_count": 12,
     "metadata": {},
     "output_type": "execute_result"
    }
   ],
   "source": [
    "quickSort(arr)"
   ]
  },
  {
   "cell_type": "code",
   "execution_count": null,
   "metadata": {},
   "outputs": [],
   "source": []
  }
 ],
 "metadata": {
  "kernelspec": {
   "display_name": "Python 3",
   "language": "python",
   "name": "python3"
  },
  "language_info": {
   "codemirror_mode": {
    "name": "ipython",
    "version": 3
   },
   "file_extension": ".py",
   "mimetype": "text/x-python",
   "name": "python",
   "nbconvert_exporter": "python",
   "pygments_lexer": "ipython3",
   "version": "3.6.5"
  }
 },
 "nbformat": 4,
 "nbformat_minor": 2
}
