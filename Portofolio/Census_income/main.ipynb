{
 "cells": [
  {
   "cell_type": "markdown",
   "metadata": {},
   "source": [
    "# Introduction "
   ]
  },
  {
   "cell_type": "markdown",
   "metadata": {},
   "source": [
    "Let's find out how factors like education, sex or native country have impact to personal salary"
   ]
  },
  {
   "cell_type": "markdown",
   "metadata": {},
   "source": [
    "## Read a data and preprocessing"
   ]
  },
  {
   "cell_type": "code",
   "execution_count": 19,
   "metadata": {},
   "outputs": [],
   "source": [
    "import pandas as pd\n",
    "df = pd.read_csv(\"adult.data\") # read a data"
   ]
  },
  {
   "cell_type": "markdown",
   "metadata": {},
   "source": [
    "Show first 5 rows of data"
   ]
  },
  {
   "cell_type": "code",
   "execution_count": 20,
   "metadata": {
    "scrolled": true
   },
   "outputs": [
    {
     "data": {
      "text/html": [
       "<div>\n",
       "<style scoped>\n",
       "    .dataframe tbody tr th:only-of-type {\n",
       "        vertical-align: middle;\n",
       "    }\n",
       "\n",
       "    .dataframe tbody tr th {\n",
       "        vertical-align: top;\n",
       "    }\n",
       "\n",
       "    .dataframe thead th {\n",
       "        text-align: right;\n",
       "    }\n",
       "</style>\n",
       "<table border=\"1\" class=\"dataframe\">\n",
       "  <thead>\n",
       "    <tr style=\"text-align: right;\">\n",
       "      <th></th>\n",
       "      <th>39</th>\n",
       "      <th>State-gov</th>\n",
       "      <th>77516</th>\n",
       "      <th>Bachelors</th>\n",
       "      <th>13</th>\n",
       "      <th>Never-married</th>\n",
       "      <th>Adm-clerical</th>\n",
       "      <th>Not-in-family</th>\n",
       "      <th>White</th>\n",
       "      <th>Male</th>\n",
       "      <th>2174</th>\n",
       "      <th>0</th>\n",
       "      <th>40</th>\n",
       "      <th>United-States</th>\n",
       "      <th>&lt;=50K</th>\n",
       "    </tr>\n",
       "  </thead>\n",
       "  <tbody>\n",
       "    <tr>\n",
       "      <th>0</th>\n",
       "      <td>50</td>\n",
       "      <td>Self-emp-not-inc</td>\n",
       "      <td>83311</td>\n",
       "      <td>Bachelors</td>\n",
       "      <td>13</td>\n",
       "      <td>Married-civ-spouse</td>\n",
       "      <td>Exec-managerial</td>\n",
       "      <td>Husband</td>\n",
       "      <td>White</td>\n",
       "      <td>Male</td>\n",
       "      <td>0</td>\n",
       "      <td>0</td>\n",
       "      <td>13</td>\n",
       "      <td>United-States</td>\n",
       "      <td>&lt;=50K</td>\n",
       "    </tr>\n",
       "    <tr>\n",
       "      <th>1</th>\n",
       "      <td>38</td>\n",
       "      <td>Private</td>\n",
       "      <td>215646</td>\n",
       "      <td>HS-grad</td>\n",
       "      <td>9</td>\n",
       "      <td>Divorced</td>\n",
       "      <td>Handlers-cleaners</td>\n",
       "      <td>Not-in-family</td>\n",
       "      <td>White</td>\n",
       "      <td>Male</td>\n",
       "      <td>0</td>\n",
       "      <td>0</td>\n",
       "      <td>40</td>\n",
       "      <td>United-States</td>\n",
       "      <td>&lt;=50K</td>\n",
       "    </tr>\n",
       "    <tr>\n",
       "      <th>2</th>\n",
       "      <td>53</td>\n",
       "      <td>Private</td>\n",
       "      <td>234721</td>\n",
       "      <td>11th</td>\n",
       "      <td>7</td>\n",
       "      <td>Married-civ-spouse</td>\n",
       "      <td>Handlers-cleaners</td>\n",
       "      <td>Husband</td>\n",
       "      <td>Black</td>\n",
       "      <td>Male</td>\n",
       "      <td>0</td>\n",
       "      <td>0</td>\n",
       "      <td>40</td>\n",
       "      <td>United-States</td>\n",
       "      <td>&lt;=50K</td>\n",
       "    </tr>\n",
       "    <tr>\n",
       "      <th>3</th>\n",
       "      <td>28</td>\n",
       "      <td>Private</td>\n",
       "      <td>338409</td>\n",
       "      <td>Bachelors</td>\n",
       "      <td>13</td>\n",
       "      <td>Married-civ-spouse</td>\n",
       "      <td>Prof-specialty</td>\n",
       "      <td>Wife</td>\n",
       "      <td>Black</td>\n",
       "      <td>Female</td>\n",
       "      <td>0</td>\n",
       "      <td>0</td>\n",
       "      <td>40</td>\n",
       "      <td>Cuba</td>\n",
       "      <td>&lt;=50K</td>\n",
       "    </tr>\n",
       "    <tr>\n",
       "      <th>4</th>\n",
       "      <td>37</td>\n",
       "      <td>Private</td>\n",
       "      <td>284582</td>\n",
       "      <td>Masters</td>\n",
       "      <td>14</td>\n",
       "      <td>Married-civ-spouse</td>\n",
       "      <td>Exec-managerial</td>\n",
       "      <td>Wife</td>\n",
       "      <td>White</td>\n",
       "      <td>Female</td>\n",
       "      <td>0</td>\n",
       "      <td>0</td>\n",
       "      <td>40</td>\n",
       "      <td>United-States</td>\n",
       "      <td>&lt;=50K</td>\n",
       "    </tr>\n",
       "  </tbody>\n",
       "</table>\n",
       "</div>"
      ],
      "text/plain": [
       "   39          State-gov   77516   Bachelors   13        Never-married  \\\n",
       "0  50   Self-emp-not-inc   83311   Bachelors   13   Married-civ-spouse   \n",
       "1  38            Private  215646     HS-grad    9             Divorced   \n",
       "2  53            Private  234721        11th    7   Married-civ-spouse   \n",
       "3  28            Private  338409   Bachelors   13   Married-civ-spouse   \n",
       "4  37            Private  284582     Masters   14   Married-civ-spouse   \n",
       "\n",
       "         Adm-clerical   Not-in-family   White     Male   2174   0   40  \\\n",
       "0     Exec-managerial         Husband   White     Male      0   0   13   \n",
       "1   Handlers-cleaners   Not-in-family   White     Male      0   0   40   \n",
       "2   Handlers-cleaners         Husband   Black     Male      0   0   40   \n",
       "3      Prof-specialty            Wife   Black   Female      0   0   40   \n",
       "4     Exec-managerial            Wife   White   Female      0   0   40   \n",
       "\n",
       "    United-States   <=50K  \n",
       "0   United-States   <=50K  \n",
       "1   United-States   <=50K  \n",
       "2   United-States   <=50K  \n",
       "3            Cuba   <=50K  \n",
       "4   United-States   <=50K  "
      ]
     },
     "execution_count": 20,
     "metadata": {},
     "output_type": "execute_result"
    }
   ],
   "source": [
    "df.head()"
   ]
  },
  {
   "cell_type": "markdown",
   "metadata": {},
   "source": [
    "We see, that's something wrong with columns names, let's check them"
   ]
  },
  {
   "cell_type": "code",
   "execution_count": 23,
   "metadata": {},
   "outputs": [
    {
     "data": {
      "text/plain": [
       "Index(['39', ' State-gov', ' 77516', ' Bachelors', ' 13', ' Never-married',\n",
       "       ' Adm-clerical', ' Not-in-family', ' White', ' Male', ' 2174', ' 0',\n",
       "       ' 40', ' United-States', ' <=50K'],\n",
       "      dtype='object')"
      ]
     },
     "execution_count": 23,
     "metadata": {},
     "output_type": "execute_result"
    }
   ],
   "source": [
    "df.columns"
   ]
  },
  {
   "cell_type": "markdown",
   "metadata": {},
   "source": [
    "Some columns, haven't a proper name, to check them we have to read data set description"
   ]
  },
  {
   "cell_type": "code",
   "execution_count": 24,
   "metadata": {},
   "outputs": [
    {
     "name": "stdout",
     "output_type": "stream",
     "text": [
      "| This data was extracted from the census bureau database found at\n",
      "| http://www.census.gov/ftp/pub/DES/www/welcome.html\n",
      "| Donor: Ronny Kohavi and Barry Becker,\n",
      "|        Data Mining and Visualization\n",
      "|        Silicon Graphics.\n",
      "|        e-mail: ronnyk@sgi.com for questions.\n",
      "| Split into train-test using MLC++ GenCVFiles (2/3, 1/3 random).\n",
      "| 48842 instances, mix of continuous and discrete    (train=32561, test=16281)\n",
      "| 45222 if instances with unknown values are removed (train=30162, test=15060)\n",
      "| Duplicate or conflicting instances : 6\n",
      "| Class probabilities for adult.all file\n",
      "| Probability for the label '>50K'  : 23.93% / 24.78% (without unknowns)\n",
      "| Probability for the label '<=50K' : 76.07% / 75.22% (without unknowns)\n",
      "|\n",
      "| Extraction was done by Barry Becker from the 1994 Census database.  A set of\n",
      "|   reasonably clean records was extracted using the following conditions:\n",
      "|   ((AAGE>16) && (AGI>100) && (AFNLWGT>1)&& (HRSWK>0))\n",
      "|\n",
      "| Prediction task is to determine whether a person makes over 50K\n",
      "| a year.\n",
      "|\n",
      "| First cited in:\n",
      "| @inproceedings{kohavi-nbtree,\n",
      "|    author={Ron Kohavi},\n",
      "|    title={Scaling Up the Accuracy of Naive-Bayes Classifiers: a\n",
      "|           Decision-Tree Hybrid},\n",
      "|    booktitle={Proceedings of the Second International Conference on\n",
      "|               Knowledge Discovery and Data Mining},\n",
      "|    year = 1996,\n",
      "|    pages={to appear}}\n",
      "|\n",
      "| Error Accuracy reported as follows, after removal of unknowns from\n",
      "|    train/test sets):\n",
      "|    C4.5       : 84.46+-0.30\n",
      "|    Naive-Bayes: 83.88+-0.30\n",
      "|    NBTree     : 85.90+-0.28\n",
      "|\n",
      "|\n",
      "| Following algorithms were later run with the following error rates,\n",
      "|    all after removal of unknowns and using the original train/test split.\n",
      "|    All these numbers are straight runs using MLC++ with default values.\n",
      "|\n",
      "|    Algorithm               Error\n",
      "| -- ----------------        -----\n",
      "| 1  C4.5                    15.54\n",
      "| 2  C4.5-auto               14.46\n",
      "| 3  C4.5 rules              14.94\n",
      "| 4  Voted ID3 (0.6)         15.64\n",
      "| 5  Voted ID3 (0.8)         16.47\n",
      "| 6  T2                      16.84\n",
      "| 7  1R                      19.54\n",
      "| 8  NBTree                  14.10\n",
      "| 9  CN2                     16.00\n",
      "| 10 HOODG                   14.82\n",
      "| 11 FSS Naive Bayes         14.05\n",
      "| 12 IDTM (Decision table)   14.46\n",
      "| 13 Naive-Bayes             16.12\n",
      "| 14 Nearest-neighbor (1)    21.42\n",
      "| 15 Nearest-neighbor (3)    20.35\n",
      "| 16 OC1                     15.04\n",
      "| 17 Pebls                   Crashed.  Unknown why (bounds WERE increased)\n",
      "|\n",
      "| Conversion of original data as follows:\n",
      "| 1. Discretized agrossincome into two ranges with threshold 50,000.\n",
      "| 2. Convert U.S. to US to avoid periods.\n",
      "| 3. Convert Unknown to \"?\"\n",
      "| 4. Run MLC++ GenCVFiles to generate data,test.\n",
      "|\n",
      "| Description of fnlwgt (final weight)\n",
      "|\n",
      "| The weights on the CPS files are controlled to independent estimates of the\n",
      "| civilian noninstitutional population of the US.  These are prepared monthly\n",
      "| for us by Population Division here at the Census Bureau.  We use 3 sets of\n",
      "| controls.\n",
      "|  These are:\n",
      "|          1.  A single cell estimate of the population 16+ for each state.\n",
      "|          2.  Controls for Hispanic Origin by age and sex.\n",
      "|          3.  Controls by Race, age and sex.\n",
      "|\n",
      "| We use all three sets of controls in our weighting program and \"rake\" through\n",
      "| them 6 times so that by the end we come back to all the controls we used.\n",
      "|\n",
      "| The term estimate refers to population totals derived from CPS by creating\n",
      "| \"weighted tallies\" of any specified socio-economic characteristics of the\n",
      "| population.\n",
      "|\n",
      "| People with similar demographic characteristics should have\n",
      "| similar weights.  There is one important caveat to remember\n",
      "| about this statement.  That is that since the CPS sample is\n",
      "| actually a collection of 51 state samples, each with its own\n",
      "| probability of selection, the statement only applies within\n",
      "| state.\n",
      "\n",
      "\n",
      ">50K, <=50K.\n",
      "\n",
      "age: continuous.\n",
      "workclass: Private, Self-emp-not-inc, Self-emp-inc, Federal-gov, Local-gov, State-gov, Without-pay, Never-worked.\n",
      "fnlwgt: continuous.\n",
      "education: Bachelors, Some-college, 11th, HS-grad, Prof-school, Assoc-acdm, Assoc-voc, 9th, 7th-8th, 12th, Masters, 1st-4th, 10th, Doctorate, 5th-6th, Preschool.\n",
      "education-num: continuous.\n",
      "marital-status: Married-civ-spouse, Divorced, Never-married, Separated, Widowed, Married-spouse-absent, Married-AF-spouse.\n",
      "occupation: Tech-support, Craft-repair, Other-service, Sales, Exec-managerial, Prof-specialty, Handlers-cleaners, Machine-op-inspct, Adm-clerical, Farming-fishing, Transport-moving, Priv-house-serv, Protective-serv, Armed-Forces.\n",
      "relationship: Wife, Own-child, Husband, Not-in-family, Other-relative, Unmarried.\n",
      "race: White, Asian-Pac-Islander, Amer-Indian-Eskimo, Other, Black.\n",
      "sex: Female, Male.\n",
      "capital-gain: continuous.\n",
      "capital-loss: continuous.\n",
      "hours-per-week: continuous.\n",
      "native-country: United-States, Cambodia, England, Puerto-Rico, Canada, Germany, Outlying-US(Guam-USVI-etc), India, Japan, Greece, South, China, Cuba, Iran, Honduras, Philippines, Italy, Poland, Jamaica, Vietnam, Mexico, Portugal, Ireland, France, Dominican-Republic, Laos, Ecuador, Taiwan, Haiti, Columbia, Hungary, Guatemala, Nicaragua, Scotland, Thailand, Yugoslavia, El-Salvador, Trinadad&Tobago, Peru, Hong, Holand-Netherlands.\n",
      "\n"
     ]
    }
   ],
   "source": [
    "f = open(\"adult.names.txt\", 'r')\n",
    "file_content = f.read()\n",
    "print(file_content)\n"
   ]
  },
  {
   "cell_type": "code",
   "execution_count": null,
   "metadata": {},
   "outputs": [],
   "source": []
  }
 ],
 "metadata": {
  "kernelspec": {
   "display_name": "Python 3",
   "language": "python",
   "name": "python3"
  },
  "language_info": {
   "codemirror_mode": {
    "name": "ipython",
    "version": 3
   },
   "file_extension": ".py",
   "mimetype": "text/x-python",
   "name": "python",
   "nbconvert_exporter": "python",
   "pygments_lexer": "ipython3",
   "version": "3.7.0"
  }
 },
 "nbformat": 4,
 "nbformat_minor": 2
}
