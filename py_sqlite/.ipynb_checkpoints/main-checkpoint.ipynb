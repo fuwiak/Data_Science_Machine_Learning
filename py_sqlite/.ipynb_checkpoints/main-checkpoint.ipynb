{
 "cells": [
  {
   "cell_type": "code",
   "execution_count": 14,
   "metadata": {},
   "outputs": [],
   "source": [
    "#Connection\n",
    "\n",
    "import sqlite3\n",
    "\n",
    "conn = sqlite3.connect('chinook.db')\n",
    "\n",
    "\n",
    "#conn.close()"
   ]
  },
  {
   "cell_type": "code",
   "execution_count": 22,
   "metadata": {},
   "outputs": [
    {
     "data": {
      "text/plain": [
       "<sqlite3.Cursor at 0x106deece0>"
      ]
     },
     "execution_count": 22,
     "metadata": {},
     "output_type": "execute_result"
    }
   ],
   "source": [
    "#select\n",
    "c = conn.cursor()\n",
    "c.execute(\"select * from artists\")\n",
    "for row in c:\n",
    "    print(row)"
   ]
  },
  {
   "cell_type": "code",
   "execution_count": 24,
   "metadata": {},
   "outputs": [],
   "source": [
    "#create table\n",
    "\n",
    "import sqlite3\n",
    "conn = sqlite3.connect('test.db')\n",
    "\n",
    "c = conn.cursor()\n",
    "\n",
    "# Create table\n",
    "c.execute(\"CREATE TABLE students(student_id integer primary key autoincrement,name text not null, surname text not null,birth date,weight int,height int)\")\n",
    "\n",
    "\n",
    "conn.commit()\n",
    "\n",
    "# We close the connection and free all resources\n",
    "conn.close()"
   ]
  },
  {
   "cell_type": "code",
   "execution_count": 25,
   "metadata": {},
   "outputs": [
    {
     "name": "stdout",
     "output_type": "stream",
     "text": [
      "number of affected rows: 1\n"
     ]
    }
   ],
   "source": [
    "#insert records\n",
    "\n",
    "import sqlite3\n",
    "\n",
    "conn = sqlite3.connect('test.db')\n",
    "\n",
    "c = conn.cursor()\n",
    "\n",
    "c.execute(\"INSERT INTO students VALUES(?,?,?,?,?,?)\",(None,'Tom','Silver',72,182,'1989-11-03'))\n",
    "\n",
    "print(\"number of affected rows: {0}\".format(conn.total_changes))\n",
    "\n",
    "conn.commit()\n",
    "\n",
    "\n",
    "conn.close()"
   ]
  },
  {
   "cell_type": "code",
   "execution_count": null,
   "metadata": {},
   "outputs": [],
   "source": [
    "#exceptions\n",
    "\n",
    "import sqlite3\n",
    "\n",
    "con = sqlite3.connect(\"test.db\")\n",
    "\n",
    "try:\n",
    "    # Successful, con.commit() is called automatically afterwards\n",
    "    with con:\n",
    "        con.execute(\"INSERT INTO students VALUES (?,?,?,?,?,?)\",(None,'Mark','LastGood',69,174,'1989-11-03'))\n",
    "        con.execute(\"INSERT INTO students VALUES (?,?,?,?,?,?)\",('Tom',null,72,182,'1989-11-03'))\n",
    "\n",
    "        #When exception occurs, we use rollback() method to revert changes \n",
    "except sqlite3.IntegrityError:\n",
    "    print(\"IntegrityError:couldn't add record with null surname\")\n",
    "    con.rollback()\n",
    "except sqlite3.ProgrammingError:\n",
    "    print(\"ProgrammingError:table does not exist\")\n",
    "    con.rollback()\n",
    "except sqlite3.Error:\n",
    "    print(\"Error:general db erorr\")\n",
    "    con.rollback()\n",
    "    \n",
    "# We close the connection and free all resources\n",
    "conn.close()"
   ]
  }
 ],
 "metadata": {
  "kernelspec": {
   "display_name": "Python 3",
   "language": "python",
   "name": "python3"
  },
  "language_info": {
   "codemirror_mode": {
    "name": "ipython",
    "version": 3
   },
   "file_extension": ".py",
   "mimetype": "text/x-python",
   "name": "python",
   "nbconvert_exporter": "python",
   "pygments_lexer": "ipython3",
   "version": "3.6.7"
  }
 },
 "nbformat": 4,
 "nbformat_minor": 2
}
