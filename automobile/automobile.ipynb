{
 "cells": [
  {
   "cell_type": "code",
   "execution_count": 1,
   "metadata": {},
   "outputs": [],
   "source": [
    "#DATA SOURCE\n",
    "#https://archive.ics.uci.edu/ml/datasets/automobile"
   ]
  },
  {
   "cell_type": "code",
   "execution_count": 2,
   "metadata": {},
   "outputs": [],
   "source": [
    "import pandas as pd\n",
    "import numpy as np\n",
    "from sklearn import preprocessing"
   ]
  },
  {
   "cell_type": "code",
   "execution_count": 3,
   "metadata": {},
   "outputs": [],
   "source": [
    "df = pd.read_csv(\"~/Desktop/ML/Data_Science_Machine_Learning/automobile/dataset.csv\")"
   ]
  },
  {
   "cell_type": "code",
   "execution_count": 4,
   "metadata": {},
   "outputs": [],
   "source": [
    "data_types = df.dtypes #check datatypes"
   ]
  },
  {
   "cell_type": "code",
   "execution_count": 5,
   "metadata": {},
   "outputs": [
    {
     "data": {
      "text/plain": [
       "symboling              int64\n",
       "normalized-losses     object\n",
       "make                  object\n",
       "fuel-type             object\n",
       "aspiration            object\n",
       "num-of-doors          object\n",
       "body-style            object\n",
       "drive-wheels          object\n",
       "engine-location       object\n",
       "wheel-base           float64\n",
       "length               float64\n",
       "width                float64\n",
       "height               float64\n",
       "curb-weight            int64\n",
       "engine-type           object\n",
       "num-of-cylinders      object\n",
       "engine-size            int64\n",
       "fuel-system           object\n",
       "bore                  object\n",
       "stroke                object\n",
       "compression-ratio    float64\n",
       "horsepower            object\n",
       "peak-rpm              object\n",
       "city-mpg               int64\n",
       "highway-mpg            int64\n",
       "price                 object\n",
       "dtype: object"
      ]
     },
     "execution_count": 5,
     "metadata": {},
     "output_type": "execute_result"
    }
   ],
   "source": [
    "data_types"
   ]
  },
  {
   "cell_type": "code",
   "execution_count": 6,
   "metadata": {},
   "outputs": [],
   "source": [
    "df[\"price\"] = df[\"price\"].apply(lambda x: x.replace(\"?\", \"0\")) # replace \"?\" with \"0\"\n"
   ]
  },
  {
   "cell_type": "code",
   "execution_count": 7,
   "metadata": {},
   "outputs": [],
   "source": [
    "df[\"price\"] = df[\"price\"].astype(float) # convert type from object to float64"
   ]
  },
  {
   "cell_type": "code",
   "execution_count": 8,
   "metadata": {},
   "outputs": [],
   "source": [
    "df = df[df[\"price\"]>0]"
   ]
  },
  {
   "cell_type": "code",
   "execution_count": 9,
   "metadata": {},
   "outputs": [
    {
     "data": {
      "text/plain": [
       "CategoricalDtype(categories=[(5077.718, 10153.25], (10153.25, 15188.5], (15188.5, 20223.75], (20223.75, 25259.0], (25259.0, 30294.25], (30294.25, 35329.5], (35329.5, 40364.75], (40364.75, 45400.0]]\n",
       "              ordered=True)"
      ]
     },
     "execution_count": 9,
     "metadata": {},
     "output_type": "execute_result"
    }
   ],
   "source": [
    "Y = df.price\n",
    "#SHOW INTERVALS\n",
    "Z = pd.cut(Y,8)\n",
    "Z.dtypes\n"
   ]
  },
  {
   "cell_type": "code",
   "execution_count": 10,
   "metadata": {},
   "outputs": [],
   "source": [
    "TYPES= Z.dtypes\n",
    "CATS = TYPES.categories\n",
    "LABELS = [str((x.left, x.right)) for x in CATS]\n"
   ]
  },
  {
   "cell_type": "code",
   "execution_count": 11,
   "metadata": {},
   "outputs": [],
   "source": [
    "Y = pd.cut(Y , 8, labels=LABELS)"
   ]
  },
  {
   "cell_type": "code",
   "execution_count": 12,
   "metadata": {},
   "outputs": [],
   "source": [
    "numerics = ['int16', 'int32', 'int64', 'float16', 'float32', 'float64']\n",
    "numerical_columns = df.select_dtypes(include=numerics).columns\n",
    "\n"
   ]
  },
  {
   "cell_type": "code",
   "execution_count": 13,
   "metadata": {},
   "outputs": [],
   "source": [
    "X = df[numerical_columns]"
   ]
  },
  {
   "cell_type": "code",
   "execution_count": 14,
   "metadata": {},
   "outputs": [],
   "source": [
    "from sklearn import tree"
   ]
  },
  {
   "cell_type": "code",
   "execution_count": 15,
   "metadata": {},
   "outputs": [],
   "source": [
    "my_class = tree.DecisionTreeClassifier()"
   ]
  },
  {
   "cell_type": "code",
   "execution_count": 16,
   "metadata": {},
   "outputs": [
    {
     "name": "stderr",
     "output_type": "stream",
     "text": [
      "/usr/local/lib/python3.6/dist-packages/sklearn/cross_validation.py:41: DeprecationWarning: This module was deprecated in version 0.18 in favor of the model_selection module into which all the refactored classes and functions are moved. Also note that the interface of the new CV iterators are different from that of this module. This module will be removed in 0.20.\n",
      "  \"This module will be removed in 0.20.\", DeprecationWarning)\n"
     ]
    }
   ],
   "source": [
    "from sklearn.cross_validation import train_test_split"
   ]
  },
  {
   "cell_type": "code",
   "execution_count": 17,
   "metadata": {},
   "outputs": [],
   "source": [
    "X_train, X_test, Y_train, Y_test = train_test_split(X, np.array(Y), test_size=0.5)"
   ]
  },
  {
   "cell_type": "code",
   "execution_count": 18,
   "metadata": {},
   "outputs": [
    {
     "data": {
      "text/plain": [
       "DecisionTreeClassifier(class_weight=None, criterion='gini', max_depth=None,\n",
       "            max_features=None, max_leaf_nodes=None,\n",
       "            min_impurity_decrease=0.0, min_impurity_split=None,\n",
       "            min_samples_leaf=1, min_samples_split=2,\n",
       "            min_weight_fraction_leaf=0.0, presort=False, random_state=None,\n",
       "            splitter='best')"
      ]
     },
     "execution_count": 18,
     "metadata": {},
     "output_type": "execute_result"
    }
   ],
   "source": [
    "my_class.fit(X_train, Y_train)"
   ]
  },
  {
   "cell_type": "code",
   "execution_count": 19,
   "metadata": {},
   "outputs": [],
   "source": [
    "predictions = my_class.predict(X_test)"
   ]
  },
  {
   "cell_type": "code",
   "execution_count": 20,
   "metadata": {},
   "outputs": [],
   "source": [
    "from sklearn.metrics import accuracy_score"
   ]
  },
  {
   "cell_type": "code",
   "execution_count": 21,
   "metadata": {},
   "outputs": [
    {
     "name": "stdout",
     "output_type": "stream",
     "text": [
      "0.9900990099009901\n"
     ]
    }
   ],
   "source": [
    "print(accuracy_score(Y_test, predictions))"
   ]
  },
  {
   "cell_type": "code",
   "execution_count": 22,
   "metadata": {},
   "outputs": [
    {
     "data": {
      "text/plain": [
       "array(['(5077.718, 10153.25)', '(5077.718, 10153.25)',\n",
       "       '(5077.718, 10153.25)', '(15188.5, 20223.75)',\n",
       "       '(5077.718, 10153.25)', '(5077.718, 10153.25)',\n",
       "       '(25259.0, 30294.25)', '(5077.718, 10153.25)',\n",
       "       '(15188.5, 20223.75)', '(30294.25, 35329.5)',\n",
       "       '(5077.718, 10153.25)', '(15188.5, 20223.75)',\n",
       "       '(5077.718, 10153.25)', '(25259.0, 30294.25)',\n",
       "       '(15188.5, 20223.75)', '(5077.718, 10153.25)',\n",
       "       '(5077.718, 10153.25)', '(15188.5, 20223.75)',\n",
       "       '(25259.0, 30294.25)', '(10153.25, 15188.5)',\n",
       "       '(5077.718, 10153.25)', '(5077.718, 10153.25)',\n",
       "       '(5077.718, 10153.25)', '(5077.718, 10153.25)',\n",
       "       '(15188.5, 20223.75)', '(15188.5, 20223.75)',\n",
       "       '(10153.25, 15188.5)', '(30294.25, 35329.5)',\n",
       "       '(5077.718, 10153.25)', '(5077.718, 10153.25)',\n",
       "       '(5077.718, 10153.25)', '(5077.718, 10153.25)',\n",
       "       '(10153.25, 15188.5)', '(5077.718, 10153.25)',\n",
       "       '(10153.25, 15188.5)', '(15188.5, 20223.75)',\n",
       "       '(5077.718, 10153.25)', '(10153.25, 15188.5)',\n",
       "       '(15188.5, 20223.75)', '(5077.718, 10153.25)',\n",
       "       '(5077.718, 10153.25)', '(40364.75, 45400.0)',\n",
       "       '(5077.718, 10153.25)', '(5077.718, 10153.25)',\n",
       "       '(5077.718, 10153.25)', '(10153.25, 15188.5)',\n",
       "       '(10153.25, 15188.5)', '(10153.25, 15188.5)',\n",
       "       '(5077.718, 10153.25)', '(5077.718, 10153.25)',\n",
       "       '(15188.5, 20223.75)', '(15188.5, 20223.75)',\n",
       "       '(15188.5, 20223.75)', '(5077.718, 10153.25)',\n",
       "       '(5077.718, 10153.25)', '(5077.718, 10153.25)',\n",
       "       '(5077.718, 10153.25)', '(5077.718, 10153.25)',\n",
       "       '(10153.25, 15188.5)', '(5077.718, 10153.25)',\n",
       "       '(15188.5, 20223.75)', '(5077.718, 10153.25)',\n",
       "       '(5077.718, 10153.25)', '(10153.25, 15188.5)',\n",
       "       '(15188.5, 20223.75)', '(10153.25, 15188.5)',\n",
       "       '(5077.718, 10153.25)', '(5077.718, 10153.25)',\n",
       "       '(10153.25, 15188.5)', '(5077.718, 10153.25)',\n",
       "       '(5077.718, 10153.25)', '(10153.25, 15188.5)',\n",
       "       '(5077.718, 10153.25)', '(10153.25, 15188.5)',\n",
       "       '(5077.718, 10153.25)', '(30294.25, 35329.5)',\n",
       "       '(15188.5, 20223.75)', '(5077.718, 10153.25)',\n",
       "       '(20223.75, 25259.0)', '(10153.25, 15188.5)',\n",
       "       '(5077.718, 10153.25)', '(15188.5, 20223.75)',\n",
       "       '(5077.718, 10153.25)', '(15188.5, 20223.75)',\n",
       "       '(5077.718, 10153.25)', '(10153.25, 15188.5)',\n",
       "       '(10153.25, 15188.5)', '(5077.718, 10153.25)',\n",
       "       '(35329.5, 40364.75)', '(5077.718, 10153.25)',\n",
       "       '(10153.25, 15188.5)', '(5077.718, 10153.25)',\n",
       "       '(5077.718, 10153.25)', '(5077.718, 10153.25)',\n",
       "       '(5077.718, 10153.25)', '(5077.718, 10153.25)',\n",
       "       '(5077.718, 10153.25)', '(10153.25, 15188.5)',\n",
       "       '(5077.718, 10153.25)', '(5077.718, 10153.25)',\n",
       "       '(5077.718, 10153.25)'], dtype=object)"
      ]
     },
     "execution_count": 22,
     "metadata": {},
     "output_type": "execute_result"
    }
   ],
   "source": [
    "predictions\n"
   ]
  },
  {
   "cell_type": "code",
   "execution_count": null,
   "metadata": {},
   "outputs": [],
   "source": []
  }
 ],
 "metadata": {
  "kernelspec": {
   "display_name": "Python 3",
   "language": "python",
   "name": "python3"
  },
  "language_info": {
   "codemirror_mode": {
    "name": "ipython",
    "version": 3
   },
   "file_extension": ".py",
   "mimetype": "text/x-python",
   "name": "python",
   "nbconvert_exporter": "python",
   "pygments_lexer": "ipython3",
   "version": "3.6.5"
  }
 },
 "nbformat": 4,
 "nbformat_minor": 2
}
