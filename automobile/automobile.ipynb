{
 "cells": [
  {
   "cell_type": "markdown",
   "metadata": {},
   "source": [
    "# Table of Contents\n",
    "1. [Goals](#Goals)\n",
    "2. [Description of Attributes](#Description)\n",
    "3. [Preprocessing](#Preprocessing)\n",
    "4. [EDA](#EDA)\n",
    "5. [Models](#Models)\n",
    "6. [Results](#Results)\n",
    "7. [Summary](#Summary)\n",
    "# Goals"
   ]
  },
  {
   "cell_type": "markdown",
   "metadata": {},
   "source": [
    "Prediction price of car using machine learning algorithms.\n",
    "\n",
    "DATA SOURCE\n",
    "https://archive.ics.uci.edu/ml/datasets/automobile\n"
   ]
  },
  {
   "cell_type": "markdown",
   "metadata": {},
   "source": [
    "## Description"
   ]
  },
  {
   "cell_type": "markdown",
   "metadata": {},
   "source": [
    "\n",
    "| Attribute | Attribute Range | Type of variable |Short description | \n",
    "| --- | --- | --- | --- |\n",
    "| symboling | -3, -2, -1, 0, 1, 2, 3.  | discrete | A value of +3 indicates that the auto is risky, -3 that it is probably pretty safe. |\n",
    "| normalized-losses|from 65 to 256 | discrete  |  represents the average loss per car per year. |\n",
    "| make |alfa-romero, audi, bmw, chevrolet, etc  | discrete  | desc |\n",
    "| fuel-type | diesel, gas.   | discrete  | desc |\n",
    "| aspiration | std, turbo | discrete  | desc |\n",
    "| num-of-doors | four, two | discrete  | desc |\n",
    "| body-style | hardtop, wagon, sedan, hatchback, convertible.  | discrete  | desc |\n",
    "| drive-wheels | 4wd, fwd, rwd | discrete | desc |\n",
    "| engine-location|  front, rear. | discrete | desc |\n",
    "| wheel-base| from 86.6 to 120.9.|continuous| desc|\n",
    "| length |141.1 to 208.1. |continuous| desc|\n",
    "| width | from 60.3 to 72.3.| continuous | desc|\n",
    "| height | from 47.8 to 59.8| continuous | desc|\n",
    "| curb-weight| from 1488 to 4066. | continuous | desc|\n",
    "| engine-type| dohc, dohcv, l, ohc, ohcf, ohcv, rotor | discrete | desc|\n",
    "| num-of-cylinders | eight, five, four, six, three, twelve, two | discrete | desc|\n",
    "| engine-size | from 61 to 326 | continuous | desc | \n",
    "| fuel-system | 1bbl, 2bbl, 4bbl, idi, mfi, mpfi, spdi, spfi | discrete | desc |\n",
    "| bore | from 2.54 to 3.94. | continuous | desc |\n",
    "| stroke | 2.07 to 4.17. |  continuous | desc |\n",
    "| compression-ratio | 7 to 23. | continuous | desc |\n",
    "| horsepower | from 48 to 288 | continuous | desc |\n",
    "| peak-rpm | from 4150 to 6600. | continuous | desc |\n",
    "| city-mpg | from 13 to 49.  | continuous | desc | \n",
    "| highway-mpg | from 16 to 54. | continuous | desc |\n",
    "| price | from 5118 to 45400.  | continuous | desc |"
   ]
  },
  {
   "cell_type": "markdown",
   "metadata": {},
   "source": [
    "## Preprocessing"
   ]
  },
  {
   "cell_type": "code",
   "execution_count": 1,
   "metadata": {},
   "outputs": [],
   "source": [
    "import pandas as pd\n",
    "import numpy as np\n",
    "from sklearn import preprocessing"
   ]
  },
  {
   "cell_type": "code",
   "execution_count": 2,
   "metadata": {},
   "outputs": [],
   "source": [
    "df = pd.read_csv(\"dataset.csv\") # read a data"
   ]
  },
  {
   "cell_type": "code",
   "execution_count": 3,
   "metadata": {},
   "outputs": [],
   "source": [
    "data_types = df.dtypes #check datatypes"
   ]
  },
  {
   "cell_type": "code",
   "execution_count": 4,
   "metadata": {},
   "outputs": [
    {
     "data": {
      "text/plain": [
       "symboling              int64\n",
       "normalized-losses     object\n",
       "make                  object\n",
       "fuel-type             object\n",
       "aspiration            object\n",
       "num-of-doors          object\n",
       "body-style            object\n",
       "drive-wheels          object\n",
       "engine-location       object\n",
       "wheel-base           float64\n",
       "length               float64\n",
       "width                float64\n",
       "height               float64\n",
       "curb-weight            int64\n",
       "engine-type           object\n",
       "num-of-cylinders      object\n",
       "engine-size            int64\n",
       "fuel-system           object\n",
       "bore                  object\n",
       "stroke                object\n",
       "compression-ratio    float64\n",
       "horsepower            object\n",
       "peak-rpm              object\n",
       "city-mpg               int64\n",
       "highway-mpg            int64\n",
       "price                 object\n",
       "dtype: object"
      ]
     },
     "execution_count": 4,
     "metadata": {},
     "output_type": "execute_result"
    }
   ],
   "source": [
    "data_types"
   ]
  },
  {
   "cell_type": "code",
   "execution_count": 5,
   "metadata": {},
   "outputs": [],
   "source": [
    "df[\"price\"] = df[\"price\"].apply(lambda x: x.replace(\"?\", \"0\")) # replace \"?\" with \"0\"\n",
    "df[\"horsepower\"] = df[\"horsepower\"].apply(lambda x: x.replace(\"?\", \"0\")) # replace \"?\" with \"0\"\n"
   ]
  },
  {
   "cell_type": "code",
   "execution_count": 6,
   "metadata": {},
   "outputs": [],
   "source": [
    "\n",
    "df[\"price\"] = df[\"price\"].astype(float) # convert type from object to float64\n",
    "df[\"horsepower\"] = df[\"horsepower\"].astype(float) # convert type from object to float64"
   ]
  },
  {
   "cell_type": "code",
   "execution_count": 7,
   "metadata": {},
   "outputs": [],
   "source": [
    "df = df[df[\"price\"]>0] # get only positive values of price \n",
    "df = df[df[\"horsepower\"]>0] # get only positive values of horsepower"
   ]
  },
  {
   "cell_type": "code",
   "execution_count": 8,
   "metadata": {},
   "outputs": [],
   "source": [
    "#CREATE PRICE INTERVALS FOR CLASSIFICATION\n",
    "count_intervals = 8\n",
    "Z = pd.cut(df.price,count_intervals)\n"
   ]
  },
  {
   "cell_type": "code",
   "execution_count": 9,
   "metadata": {},
   "outputs": [],
   "source": [
    "#SHOW INTERVALS\n",
    "Z.dtypes;\n"
   ]
  },
  {
   "cell_type": "code",
   "execution_count": 10,
   "metadata": {},
   "outputs": [],
   "source": [
    "#Prepare intervals to classification\n",
    "\n",
    "CATS = Z.dtypes.categories\n",
    "LABELS = [str((x.left, x.right)) for x in CATS]\n",
    "Y = pd.cut(df.price, count_intervals, labels=LABELS)\n"
   ]
  },
  {
   "cell_type": "code",
   "execution_count": 27,
   "metadata": {},
   "outputs": [],
   "source": [
    "#GET ONLY NUMERIC COLUMNS\n",
    "numerics = ['int16', 'int32', 'int64', 'float16', 'float32', 'float64']\n",
    "numerical_columns = df.select_dtypes(include=numerics).columns\n",
    "X = df[numerical_columns]\n"
   ]
  },
  {
   "cell_type": "code",
   "execution_count": 28,
   "metadata": {},
   "outputs": [
    {
     "data": {
      "text/html": [
       "<div>\n",
       "<style scoped>\n",
       "    .dataframe tbody tr th:only-of-type {\n",
       "        vertical-align: middle;\n",
       "    }\n",
       "\n",
       "    .dataframe tbody tr th {\n",
       "        vertical-align: top;\n",
       "    }\n",
       "\n",
       "    .dataframe thead th {\n",
       "        text-align: right;\n",
       "    }\n",
       "</style>\n",
       "<table border=\"1\" class=\"dataframe\">\n",
       "  <thead>\n",
       "    <tr style=\"text-align: right;\">\n",
       "      <th></th>\n",
       "      <th>symboling</th>\n",
       "      <th>wheel-base</th>\n",
       "      <th>length</th>\n",
       "      <th>width</th>\n",
       "      <th>height</th>\n",
       "      <th>curb-weight</th>\n",
       "      <th>engine-size</th>\n",
       "      <th>compression-ratio</th>\n",
       "      <th>horsepower</th>\n",
       "      <th>city-mpg</th>\n",
       "      <th>highway-mpg</th>\n",
       "      <th>price</th>\n",
       "    </tr>\n",
       "  </thead>\n",
       "  <tbody>\n",
       "    <tr>\n",
       "      <th>0</th>\n",
       "      <td>3</td>\n",
       "      <td>88.6</td>\n",
       "      <td>168.8</td>\n",
       "      <td>64.1</td>\n",
       "      <td>48.8</td>\n",
       "      <td>2548</td>\n",
       "      <td>130</td>\n",
       "      <td>9.0</td>\n",
       "      <td>111.0</td>\n",
       "      <td>21</td>\n",
       "      <td>27</td>\n",
       "      <td>13495.0</td>\n",
       "    </tr>\n",
       "    <tr>\n",
       "      <th>1</th>\n",
       "      <td>3</td>\n",
       "      <td>88.6</td>\n",
       "      <td>168.8</td>\n",
       "      <td>64.1</td>\n",
       "      <td>48.8</td>\n",
       "      <td>2548</td>\n",
       "      <td>130</td>\n",
       "      <td>9.0</td>\n",
       "      <td>111.0</td>\n",
       "      <td>21</td>\n",
       "      <td>27</td>\n",
       "      <td>16500.0</td>\n",
       "    </tr>\n",
       "    <tr>\n",
       "      <th>2</th>\n",
       "      <td>1</td>\n",
       "      <td>94.5</td>\n",
       "      <td>171.2</td>\n",
       "      <td>65.5</td>\n",
       "      <td>52.4</td>\n",
       "      <td>2823</td>\n",
       "      <td>152</td>\n",
       "      <td>9.0</td>\n",
       "      <td>154.0</td>\n",
       "      <td>19</td>\n",
       "      <td>26</td>\n",
       "      <td>16500.0</td>\n",
       "    </tr>\n",
       "    <tr>\n",
       "      <th>3</th>\n",
       "      <td>2</td>\n",
       "      <td>99.8</td>\n",
       "      <td>176.6</td>\n",
       "      <td>66.2</td>\n",
       "      <td>54.3</td>\n",
       "      <td>2337</td>\n",
       "      <td>109</td>\n",
       "      <td>10.0</td>\n",
       "      <td>102.0</td>\n",
       "      <td>24</td>\n",
       "      <td>30</td>\n",
       "      <td>13950.0</td>\n",
       "    </tr>\n",
       "    <tr>\n",
       "      <th>4</th>\n",
       "      <td>2</td>\n",
       "      <td>99.4</td>\n",
       "      <td>176.6</td>\n",
       "      <td>66.4</td>\n",
       "      <td>54.3</td>\n",
       "      <td>2824</td>\n",
       "      <td>136</td>\n",
       "      <td>8.0</td>\n",
       "      <td>115.0</td>\n",
       "      <td>18</td>\n",
       "      <td>22</td>\n",
       "      <td>17450.0</td>\n",
       "    </tr>\n",
       "    <tr>\n",
       "      <th>5</th>\n",
       "      <td>2</td>\n",
       "      <td>99.8</td>\n",
       "      <td>177.3</td>\n",
       "      <td>66.3</td>\n",
       "      <td>53.1</td>\n",
       "      <td>2507</td>\n",
       "      <td>136</td>\n",
       "      <td>8.5</td>\n",
       "      <td>110.0</td>\n",
       "      <td>19</td>\n",
       "      <td>25</td>\n",
       "      <td>15250.0</td>\n",
       "    </tr>\n",
       "    <tr>\n",
       "      <th>6</th>\n",
       "      <td>1</td>\n",
       "      <td>105.8</td>\n",
       "      <td>192.7</td>\n",
       "      <td>71.4</td>\n",
       "      <td>55.7</td>\n",
       "      <td>2844</td>\n",
       "      <td>136</td>\n",
       "      <td>8.5</td>\n",
       "      <td>110.0</td>\n",
       "      <td>19</td>\n",
       "      <td>25</td>\n",
       "      <td>17710.0</td>\n",
       "    </tr>\n",
       "    <tr>\n",
       "      <th>7</th>\n",
       "      <td>1</td>\n",
       "      <td>105.8</td>\n",
       "      <td>192.7</td>\n",
       "      <td>71.4</td>\n",
       "      <td>55.7</td>\n",
       "      <td>2954</td>\n",
       "      <td>136</td>\n",
       "      <td>8.5</td>\n",
       "      <td>110.0</td>\n",
       "      <td>19</td>\n",
       "      <td>25</td>\n",
       "      <td>18920.0</td>\n",
       "    </tr>\n",
       "    <tr>\n",
       "      <th>8</th>\n",
       "      <td>1</td>\n",
       "      <td>105.8</td>\n",
       "      <td>192.7</td>\n",
       "      <td>71.4</td>\n",
       "      <td>55.9</td>\n",
       "      <td>3086</td>\n",
       "      <td>131</td>\n",
       "      <td>8.3</td>\n",
       "      <td>140.0</td>\n",
       "      <td>17</td>\n",
       "      <td>20</td>\n",
       "      <td>23875.0</td>\n",
       "    </tr>\n",
       "    <tr>\n",
       "      <th>10</th>\n",
       "      <td>2</td>\n",
       "      <td>101.2</td>\n",
       "      <td>176.8</td>\n",
       "      <td>64.8</td>\n",
       "      <td>54.3</td>\n",
       "      <td>2395</td>\n",
       "      <td>108</td>\n",
       "      <td>8.8</td>\n",
       "      <td>101.0</td>\n",
       "      <td>23</td>\n",
       "      <td>29</td>\n",
       "      <td>16430.0</td>\n",
       "    </tr>\n",
       "  </tbody>\n",
       "</table>\n",
       "</div>"
      ],
      "text/plain": [
       "    symboling  wheel-base  length  width  height  curb-weight  engine-size  \\\n",
       "0           3        88.6   168.8   64.1    48.8         2548          130   \n",
       "1           3        88.6   168.8   64.1    48.8         2548          130   \n",
       "2           1        94.5   171.2   65.5    52.4         2823          152   \n",
       "3           2        99.8   176.6   66.2    54.3         2337          109   \n",
       "4           2        99.4   176.6   66.4    54.3         2824          136   \n",
       "5           2        99.8   177.3   66.3    53.1         2507          136   \n",
       "6           1       105.8   192.7   71.4    55.7         2844          136   \n",
       "7           1       105.8   192.7   71.4    55.7         2954          136   \n",
       "8           1       105.8   192.7   71.4    55.9         3086          131   \n",
       "10          2       101.2   176.8   64.8    54.3         2395          108   \n",
       "\n",
       "    compression-ratio  horsepower  city-mpg  highway-mpg    price  \n",
       "0                 9.0       111.0        21           27  13495.0  \n",
       "1                 9.0       111.0        21           27  16500.0  \n",
       "2                 9.0       154.0        19           26  16500.0  \n",
       "3                10.0       102.0        24           30  13950.0  \n",
       "4                 8.0       115.0        18           22  17450.0  \n",
       "5                 8.5       110.0        19           25  15250.0  \n",
       "6                 8.5       110.0        19           25  17710.0  \n",
       "7                 8.5       110.0        19           25  18920.0  \n",
       "8                 8.3       140.0        17           20  23875.0  \n",
       "10                8.8       101.0        23           29  16430.0  "
      ]
     },
     "execution_count": 28,
     "metadata": {},
     "output_type": "execute_result"
    }
   ],
   "source": [
    "#SHOW FIRST 10 ROWS\n",
    "X.head(10)\n"
   ]
  },
  {
   "cell_type": "markdown",
   "metadata": {},
   "source": [
    "## EDA"
   ]
  },
  {
   "cell_type": "code",
   "execution_count": 24,
   "metadata": {},
   "outputs": [
    {
     "data": {
      "text/plain": [
       "Index(['symboling', 'wheel-base', 'length', 'width', 'height', 'curb-weight',\n",
       "       'engine-size', 'compression-ratio', 'horsepower', 'city-mpg',\n",
       "       'highway-mpg', 'price'],\n",
       "      dtype='object')"
      ]
     },
     "execution_count": 24,
     "metadata": {},
     "output_type": "execute_result"
    }
   ],
   "source": [
    "X.columns"
   ]
  },
  {
   "cell_type": "code",
   "execution_count": 25,
   "metadata": {},
   "outputs": [
    {
     "data": {
      "text/html": [
       "<div>\n",
       "<style scoped>\n",
       "    .dataframe tbody tr th:only-of-type {\n",
       "        vertical-align: middle;\n",
       "    }\n",
       "\n",
       "    .dataframe tbody tr th {\n",
       "        vertical-align: top;\n",
       "    }\n",
       "\n",
       "    .dataframe thead th {\n",
       "        text-align: right;\n",
       "    }\n",
       "</style>\n",
       "<table border=\"1\" class=\"dataframe\">\n",
       "  <thead>\n",
       "    <tr style=\"text-align: right;\">\n",
       "      <th></th>\n",
       "      <th>count</th>\n",
       "      <th>mean</th>\n",
       "      <th>std</th>\n",
       "      <th>min</th>\n",
       "      <th>25%</th>\n",
       "      <th>50%</th>\n",
       "      <th>75%</th>\n",
       "      <th>max</th>\n",
       "    </tr>\n",
       "  </thead>\n",
       "  <tbody>\n",
       "    <tr>\n",
       "      <th>symboling</th>\n",
       "      <td>199.0</td>\n",
       "      <td>0.839196</td>\n",
       "      <td>1.257009</td>\n",
       "      <td>-2.0</td>\n",
       "      <td>0.00</td>\n",
       "      <td>1.0</td>\n",
       "      <td>2.00</td>\n",
       "      <td>3.0</td>\n",
       "    </tr>\n",
       "    <tr>\n",
       "      <th>wheel-base</th>\n",
       "      <td>199.0</td>\n",
       "      <td>98.824121</td>\n",
       "      <td>6.090838</td>\n",
       "      <td>86.6</td>\n",
       "      <td>94.50</td>\n",
       "      <td>97.0</td>\n",
       "      <td>102.40</td>\n",
       "      <td>120.9</td>\n",
       "    </tr>\n",
       "    <tr>\n",
       "      <th>length</th>\n",
       "      <td>199.0</td>\n",
       "      <td>174.151256</td>\n",
       "      <td>12.371905</td>\n",
       "      <td>141.1</td>\n",
       "      <td>166.55</td>\n",
       "      <td>173.2</td>\n",
       "      <td>183.50</td>\n",
       "      <td>208.1</td>\n",
       "    </tr>\n",
       "    <tr>\n",
       "      <th>width</th>\n",
       "      <td>199.0</td>\n",
       "      <td>65.882412</td>\n",
       "      <td>2.110996</td>\n",
       "      <td>60.3</td>\n",
       "      <td>64.10</td>\n",
       "      <td>65.5</td>\n",
       "      <td>66.70</td>\n",
       "      <td>72.0</td>\n",
       "    </tr>\n",
       "    <tr>\n",
       "      <th>height</th>\n",
       "      <td>199.0</td>\n",
       "      <td>53.775879</td>\n",
       "      <td>2.447039</td>\n",
       "      <td>47.8</td>\n",
       "      <td>52.00</td>\n",
       "      <td>54.1</td>\n",
       "      <td>55.55</td>\n",
       "      <td>59.8</td>\n",
       "    </tr>\n",
       "    <tr>\n",
       "      <th>curb-weight</th>\n",
       "      <td>199.0</td>\n",
       "      <td>2556.030151</td>\n",
       "      <td>519.855544</td>\n",
       "      <td>1488.0</td>\n",
       "      <td>2157.00</td>\n",
       "      <td>2414.0</td>\n",
       "      <td>2930.50</td>\n",
       "      <td>4066.0</td>\n",
       "    </tr>\n",
       "    <tr>\n",
       "      <th>engine-size</th>\n",
       "      <td>199.0</td>\n",
       "      <td>126.824121</td>\n",
       "      <td>41.752932</td>\n",
       "      <td>61.0</td>\n",
       "      <td>97.50</td>\n",
       "      <td>119.0</td>\n",
       "      <td>143.00</td>\n",
       "      <td>326.0</td>\n",
       "    </tr>\n",
       "    <tr>\n",
       "      <th>compression-ratio</th>\n",
       "      <td>199.0</td>\n",
       "      <td>10.178995</td>\n",
       "      <td>4.022424</td>\n",
       "      <td>7.0</td>\n",
       "      <td>8.55</td>\n",
       "      <td>9.0</td>\n",
       "      <td>9.40</td>\n",
       "      <td>23.0</td>\n",
       "    </tr>\n",
       "    <tr>\n",
       "      <th>horsepower</th>\n",
       "      <td>199.0</td>\n",
       "      <td>103.396985</td>\n",
       "      <td>37.553843</td>\n",
       "      <td>48.0</td>\n",
       "      <td>70.00</td>\n",
       "      <td>95.0</td>\n",
       "      <td>116.00</td>\n",
       "      <td>262.0</td>\n",
       "    </tr>\n",
       "    <tr>\n",
       "      <th>city-mpg</th>\n",
       "      <td>199.0</td>\n",
       "      <td>25.201005</td>\n",
       "      <td>6.451826</td>\n",
       "      <td>13.0</td>\n",
       "      <td>19.00</td>\n",
       "      <td>24.0</td>\n",
       "      <td>30.00</td>\n",
       "      <td>49.0</td>\n",
       "    </tr>\n",
       "    <tr>\n",
       "      <th>highway-mpg</th>\n",
       "      <td>199.0</td>\n",
       "      <td>30.683417</td>\n",
       "      <td>6.849410</td>\n",
       "      <td>16.0</td>\n",
       "      <td>25.00</td>\n",
       "      <td>30.0</td>\n",
       "      <td>34.00</td>\n",
       "      <td>54.0</td>\n",
       "    </tr>\n",
       "    <tr>\n",
       "      <th>price</th>\n",
       "      <td>199.0</td>\n",
       "      <td>13243.432161</td>\n",
       "      <td>7978.707609</td>\n",
       "      <td>5118.0</td>\n",
       "      <td>7775.00</td>\n",
       "      <td>10345.0</td>\n",
       "      <td>16501.50</td>\n",
       "      <td>45400.0</td>\n",
       "    </tr>\n",
       "  </tbody>\n",
       "</table>\n",
       "</div>"
      ],
      "text/plain": [
       "                   count          mean          std     min      25%      50%  \\\n",
       "symboling          199.0      0.839196     1.257009    -2.0     0.00      1.0   \n",
       "wheel-base         199.0     98.824121     6.090838    86.6    94.50     97.0   \n",
       "length             199.0    174.151256    12.371905   141.1   166.55    173.2   \n",
       "width              199.0     65.882412     2.110996    60.3    64.10     65.5   \n",
       "height             199.0     53.775879     2.447039    47.8    52.00     54.1   \n",
       "curb-weight        199.0   2556.030151   519.855544  1488.0  2157.00   2414.0   \n",
       "engine-size        199.0    126.824121    41.752932    61.0    97.50    119.0   \n",
       "compression-ratio  199.0     10.178995     4.022424     7.0     8.55      9.0   \n",
       "horsepower         199.0    103.396985    37.553843    48.0    70.00     95.0   \n",
       "city-mpg           199.0     25.201005     6.451826    13.0    19.00     24.0   \n",
       "highway-mpg        199.0     30.683417     6.849410    16.0    25.00     30.0   \n",
       "price              199.0  13243.432161  7978.707609  5118.0  7775.00  10345.0   \n",
       "\n",
       "                        75%      max  \n",
       "symboling              2.00      3.0  \n",
       "wheel-base           102.40    120.9  \n",
       "length               183.50    208.1  \n",
       "width                 66.70     72.0  \n",
       "height                55.55     59.8  \n",
       "curb-weight         2930.50   4066.0  \n",
       "engine-size          143.00    326.0  \n",
       "compression-ratio      9.40     23.0  \n",
       "horsepower           116.00    262.0  \n",
       "city-mpg              30.00     49.0  \n",
       "highway-mpg           34.00     54.0  \n",
       "price              16501.50  45400.0  "
      ]
     },
     "execution_count": 25,
     "metadata": {},
     "output_type": "execute_result"
    }
   ],
   "source": [
    "X.describe().T"
   ]
  },
  {
   "cell_type": "code",
   "execution_count": 26,
   "metadata": {},
   "outputs": [
    {
     "data": {
      "text/plain": [
       "array([[<matplotlib.axes._subplots.AxesSubplot object at 0x10c1cef28>,\n",
       "        <matplotlib.axes._subplots.AxesSubplot object at 0x10fbb5198>,\n",
       "        <matplotlib.axes._subplots.AxesSubplot object at 0x10fbde5c0>],\n",
       "       [<matplotlib.axes._subplots.AxesSubplot object at 0x10fc05b38>,\n",
       "        <matplotlib.axes._subplots.AxesSubplot object at 0x10fc380f0>,\n",
       "        <matplotlib.axes._subplots.AxesSubplot object at 0x10fc60668>],\n",
       "       [<matplotlib.axes._subplots.AxesSubplot object at 0x10fc86be0>,\n",
       "        <matplotlib.axes._subplots.AxesSubplot object at 0x10fcb91d0>,\n",
       "        <matplotlib.axes._subplots.AxesSubplot object at 0x10fcb9208>],\n",
       "       [<matplotlib.axes._subplots.AxesSubplot object at 0x10fd06c88>,\n",
       "        <matplotlib.axes._subplots.AxesSubplot object at 0x10fd37240>,\n",
       "        <matplotlib.axes._subplots.AxesSubplot object at 0x10fd5d7b8>]],\n",
       "      dtype=object)"
      ]
     },
     "execution_count": 26,
     "metadata": {},
     "output_type": "execute_result"
    }
   ],
   "source": [
    "X.hist(bins=10)"
   ]
  },
  {
   "cell_type": "markdown",
   "metadata": {},
   "source": [
    "## Models"
   ]
  },
  {
   "cell_type": "code",
   "execution_count": 15,
   "metadata": {},
   "outputs": [],
   "source": [
    "#First classifier \n",
    "\n",
    "from sklearn import tree"
   ]
  },
  {
   "cell_type": "code",
   "execution_count": 16,
   "metadata": {},
   "outputs": [],
   "source": [
    "my_class = tree.DecisionTreeClassifier()"
   ]
  },
  {
   "cell_type": "code",
   "execution_count": 17,
   "metadata": {},
   "outputs": [],
   "source": [
    "from sklearn.model_selection import train_test_split"
   ]
  },
  {
   "cell_type": "code",
   "execution_count": 18,
   "metadata": {},
   "outputs": [],
   "source": [
    "X_train, X_test, Y_train, Y_test = train_test_split(X, np.array(Y), test_size=0.5)"
   ]
  },
  {
   "cell_type": "code",
   "execution_count": 19,
   "metadata": {},
   "outputs": [
    {
     "data": {
      "text/plain": [
       "DecisionTreeClassifier(class_weight=None, criterion='gini', max_depth=None,\n",
       "            max_features=None, max_leaf_nodes=None,\n",
       "            min_impurity_decrease=0.0, min_impurity_split=None,\n",
       "            min_samples_leaf=1, min_samples_split=2,\n",
       "            min_weight_fraction_leaf=0.0, presort=False, random_state=None,\n",
       "            splitter='best')"
      ]
     },
     "execution_count": 19,
     "metadata": {},
     "output_type": "execute_result"
    }
   ],
   "source": [
    "my_class.fit(X_train, Y_train)"
   ]
  },
  {
   "cell_type": "code",
   "execution_count": 20,
   "metadata": {},
   "outputs": [],
   "source": [
    "predictions = my_class.predict(X_test)"
   ]
  },
  {
   "cell_type": "code",
   "execution_count": 21,
   "metadata": {},
   "outputs": [],
   "source": [
    "from sklearn.metrics import accuracy_score"
   ]
  },
  {
   "cell_type": "code",
   "execution_count": 22,
   "metadata": {},
   "outputs": [
    {
     "name": "stdout",
     "output_type": "stream",
     "text": [
      "0.95\n"
     ]
    }
   ],
   "source": [
    "print(accuracy_score(Y_test, predictions))"
   ]
  },
  {
   "cell_type": "code",
   "execution_count": 23,
   "metadata": {},
   "outputs": [],
   "source": [
    "#SHOW DECISION TREE GRAPH\n",
    "# import graphviz \n",
    "# dot_data = tree.export_graphviz(my_class, out_file=None)\n",
    "# graph = graphviz.Source(dot_data)\n",
    "# graph"
   ]
  },
  {
   "cell_type": "markdown",
   "metadata": {},
   "source": [
    "## Results"
   ]
  },
  {
   "cell_type": "markdown",
   "metadata": {},
   "source": [
    "## Summary"
   ]
  },
  {
   "cell_type": "code",
   "execution_count": null,
   "metadata": {},
   "outputs": [],
   "source": []
  }
 ],
 "metadata": {
  "kernelspec": {
   "display_name": "Python 3",
   "language": "python",
   "name": "python3"
  },
  "language_info": {
   "codemirror_mode": {
    "name": "ipython",
    "version": 3
   },
   "file_extension": ".py",
   "mimetype": "text/x-python",
   "name": "python",
   "nbconvert_exporter": "python",
   "pygments_lexer": "ipython3",
   "version": "3.7.0"
  }
 },
 "nbformat": 4,
 "nbformat_minor": 2
}
