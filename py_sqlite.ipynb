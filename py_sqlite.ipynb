{
 "cells": [
  {
   "cell_type": "code",
   "execution_count": 1,
   "metadata": {},
   "outputs": [],
   "source": [
    "#Connection\n",
    "\n",
    "import sqlite3\n",
    "#We connect to testdb2.db database\n",
    "conn = sqlite3.connect('test.db')\n",
    "\n",
    "\n",
    "# We close the connection and free all resources\n",
    "conn.close()"
   ]
  },
  {
   "cell_type": "code",
   "execution_count": 3,
   "metadata": {},
   "outputs": [],
   "source": [
    "#create table\n",
    "\n",
    "import sqlite3\n",
    "conn = sqlite3.connect('test.db')\n",
    "\n",
    "c = conn.cursor()\n",
    "\n",
    "# Create table\n",
    "c.execute(\"CREATE TABLE students(student_id integer primary key autoincrement,name text not null, surname text not null,birth date,weight int,height int)\")\n",
    "\n",
    "# Save (commit) the changes in database.\n",
    "#Changes not commited will be lost\n",
    "conn.commit()\n",
    "\n",
    "# We close the connection and free all resources\n",
    "conn.close()"
   ]
  },
  {
   "cell_type": "code",
   "execution_count": 4,
   "metadata": {},
   "outputs": [],
   "source": [
    "#drop table\n",
    "\n",
    "import sqlite3\n",
    "\n",
    "conn = sqlite3.connect('test.db')\n",
    "\n",
    "c = conn.cursor()\n",
    "\n",
    "#execute the commend below to drop table\n",
    "c.execute(\"Drop table students\")\n",
    "\n",
    "# Save (commit) the changes\n",
    "conn.commit()\n",
    "\n",
    "# We close the connection and free all resources\n",
    "conn.close()"
   ]
  },
  {
   "cell_type": "code",
   "execution_count": 5,
   "metadata": {},
   "outputs": [],
   "source": [
    "#insert rows \n",
    "import sqlite3\n",
    "conn = sqlite3.connect('test.db')\n",
    "\n",
    "c = conn.cursor()\n",
    "\n",
    "# Create table\n",
    "c.execute(\"CREATE TABLE students(student_id integer primary key autoincrement,name text not null, surname text not null,birth date,weight int,height int)\")\n",
    "\n",
    "# Save (commit) the changes in database.\n",
    "#Changes not commited will be lost\n",
    "conn.commit()\n",
    "\n",
    "# We close the connection and free all resources\n",
    "conn.close()"
   ]
  },
  {
   "cell_type": "code",
   "execution_count": 6,
   "metadata": {},
   "outputs": [
    {
     "name": "stdout",
     "output_type": "stream",
     "text": [
      "number of affected rows: 1\n"
     ]
    }
   ],
   "source": [
    "#insert records\n",
    "\n",
    "import sqlite3\n",
    "\n",
    "conn = sqlite3.connect('test.db')\n",
    "\n",
    "c = conn.cursor()\n",
    "\n",
    "\n",
    "# Insert record values using placeholder operator\n",
    "#While student_id column value is autoincrement primary key,its value should be equal to None\n",
    "c.execute(\"INSERT INTO students VALUES(?,?,?,?,?,?)\",(None,'Tom','Silver',72,182,'1989-11-03'))\n",
    "\n",
    "#WRONG:Do not use string operators as below\n",
    "#c.execute(\"INSERT INTO students VALUES ({0},{1},{2},{3},{4})\".format('Tom','Silver',72,182,'1989-11-03'))\n",
    "\n",
    "#print total number of changed rows\n",
    "print(\"number of affected rows: {0}\".format(conn.total_changes))\n",
    "\n",
    "# Save (commit) the changes\n",
    "conn.commit()\n",
    "\n",
    "# We close the connection and free all resources\n",
    "conn.close()"
   ]
  },
  {
   "cell_type": "code",
   "execution_count": 8,
   "metadata": {},
   "outputs": [
    {
     "name": "stdout",
     "output_type": "stream",
     "text": [
      "('Tom', 'Silver')\n",
      "\n",
      "get and print single result\n",
      "('Tom', 'Silver', 182, '1989-11-03')\n",
      "\n",
      " fetchall approach\n",
      "(1, 'Tom', 'Silver', 72, 182, '1989-11-03')\n"
     ]
    }
   ],
   "source": [
    "#select \n",
    "\n",
    "import sqlite3\n",
    "\n",
    "conn = sqlite3.connect('test.db')\n",
    "\n",
    "c = conn.cursor()\n",
    "\n",
    "#execute the commend below to select name,surname and iteterate through results using iterator\n",
    "for row in c.execute(\"SELECT name,surname FROM students ORDER BY surname\"):\n",
    "    print(row)\n",
    "\n",
    "c.execute(\"SELECT name,surname FROM students ORDER BY surname\")\n",
    "\n",
    "#execute the commend below to select name,surname,weight,height\n",
    "c.execute(\"SELECT name,surname,weight,height FROM students ORDER BY surname\")\n",
    "\n",
    "#get and print single result\n",
    "print(\"\\nget and print single result\")\n",
    "print(c.fetchone())\n",
    "\n",
    "\n",
    "#execute the commend below to select name,surname,weight,height\n",
    "c.execute(\"SELECT * from students ORDER BY surname\")\n",
    "\n",
    "#get all results,assign them to the list,fecthall() returns empty list if no results\n",
    "print(\"\\n fetchall approach\")\n",
    "listOfResults=c.fetchall()\n",
    "for item in listOfResults:\n",
    "    print(item)\n",
    "\n",
    "\n",
    "# Save (commit) the changes\n",
    "conn.commit()\n",
    "\n",
    "# We close the connection and free all resources\n",
    "conn.close()"
   ]
  },
  {
   "cell_type": "code",
   "execution_count": 9,
   "metadata": {},
   "outputs": [
    {
     "ename": "NameError",
     "evalue": "name 'null' is not defined",
     "output_type": "error",
     "traceback": [
      "\u001b[0;31m---------------------------------------------------------------------------\u001b[0m",
      "\u001b[0;31mNameError\u001b[0m                                 Traceback (most recent call last)",
      "\u001b[0;32m<ipython-input-9-93eb4bc60171>\u001b[0m in \u001b[0;36m<module>\u001b[0;34m\u001b[0m\n\u001b[1;32m      9\u001b[0m     \u001b[0;32mwith\u001b[0m \u001b[0mcon\u001b[0m\u001b[0;34m:\u001b[0m\u001b[0;34m\u001b[0m\u001b[0m\n\u001b[1;32m     10\u001b[0m         \u001b[0mcon\u001b[0m\u001b[0;34m.\u001b[0m\u001b[0mexecute\u001b[0m\u001b[0;34m(\u001b[0m\u001b[0;34m\"INSERT INTO students VALUES (?,?,?,?,?,?)\"\u001b[0m\u001b[0;34m,\u001b[0m\u001b[0;34m(\u001b[0m\u001b[0;32mNone\u001b[0m\u001b[0;34m,\u001b[0m\u001b[0;34m'Mark'\u001b[0m\u001b[0;34m,\u001b[0m\u001b[0;34m'LastGood'\u001b[0m\u001b[0;34m,\u001b[0m\u001b[0;36m69\u001b[0m\u001b[0;34m,\u001b[0m\u001b[0;36m174\u001b[0m\u001b[0;34m,\u001b[0m\u001b[0;34m'1989-11-03'\u001b[0m\u001b[0;34m)\u001b[0m\u001b[0;34m)\u001b[0m\u001b[0;34m\u001b[0m\u001b[0m\n\u001b[0;32m---> 11\u001b[0;31m         \u001b[0mcon\u001b[0m\u001b[0;34m.\u001b[0m\u001b[0mexecute\u001b[0m\u001b[0;34m(\u001b[0m\u001b[0;34m\"INSERT INTO students VALUES (?,?,?,?,?,?)\"\u001b[0m\u001b[0;34m,\u001b[0m\u001b[0;34m(\u001b[0m\u001b[0;34m'Tom'\u001b[0m\u001b[0;34m,\u001b[0m\u001b[0mnull\u001b[0m\u001b[0;34m,\u001b[0m\u001b[0;36m72\u001b[0m\u001b[0;34m,\u001b[0m\u001b[0;36m182\u001b[0m\u001b[0;34m,\u001b[0m\u001b[0;34m'1989-11-03'\u001b[0m\u001b[0;34m)\u001b[0m\u001b[0;34m)\u001b[0m\u001b[0;34m\u001b[0m\u001b[0m\n\u001b[0m\u001b[1;32m     12\u001b[0m \u001b[0;34m\u001b[0m\u001b[0m\n\u001b[1;32m     13\u001b[0m         \u001b[0;31m#When exception occurs, we use rollback() method to revert changes\u001b[0m\u001b[0;34m\u001b[0m\u001b[0;34m\u001b[0m\u001b[0m\n",
      "\u001b[0;31mNameError\u001b[0m: name 'null' is not defined"
     ]
    }
   ],
   "source": [
    "#exceptions\n",
    "\n",
    "import sqlite3\n",
    "\n",
    "con = sqlite3.connect(\"test.db\")\n",
    "\n",
    "try:\n",
    "    # Successful, con.commit() is called automatically afterwards\n",
    "    with con:\n",
    "        con.execute(\"INSERT INTO students VALUES (?,?,?,?,?,?)\",(None,'Mark','LastGood',69,174,'1989-11-03'))\n",
    "        con.execute(\"INSERT INTO students VALUES (?,?,?,?,?,?)\",('Tom',null,72,182,'1989-11-03'))\n",
    "\n",
    "        #When exception occurs, we use rollback() method to revert changes \n",
    "except sqlite3.IntegrityError:\n",
    "    print(\"IntegrityError:couldn't add record with null surname\")\n",
    "    con.rollback()\n",
    "except sqlite3.ProgrammingError:\n",
    "    print(\"ProgrammingError:table does not exist\")\n",
    "    con.rollback()\n",
    "except sqlite3.Error:\n",
    "    print(\"Error:general db erorr\")\n",
    "    con.rollback()\n",
    "    \n",
    "# We close the connection and free all resources\n",
    "conn.close()"
   ]
  },
  {
   "cell_type": "code",
   "execution_count": null,
   "metadata": {},
   "outputs": [],
   "source": []
  }
 ],
 "metadata": {
  "kernelspec": {
   "display_name": "Python 3",
   "language": "python",
   "name": "python3"
  },
  "language_info": {
   "codemirror_mode": {
    "name": "ipython",
    "version": 3
   },
   "file_extension": ".py",
   "mimetype": "text/x-python",
   "name": "python",
   "nbconvert_exporter": "python",
   "pygments_lexer": "ipython3",
   "version": "3.7.0"
  }
 },
 "nbformat": 4,
 "nbformat_minor": 2
}
